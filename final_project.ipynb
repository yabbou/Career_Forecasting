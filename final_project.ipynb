{
  "nbformat": 4,
  "nbformat_minor": 0,
  "metadata": {
    "colab": {
      "name": "final project.ipynb",
      "provenance": [],
      "collapsed_sections": [],
      "authorship_tag": "ABX9TyPcA+63r4AHfMhZVtlGGqk7",
      "include_colab_link": true
    },
    "kernelspec": {
      "name": "python3",
      "display_name": "Python 3"
    },
    "language_info": {
      "name": "python"
    }
  },
  "cells": [
    {
      "cell_type": "markdown",
      "metadata": {
        "id": "view-in-github",
        "colab_type": "text"
      },
      "source": [
        "<a href=\"https://colab.research.google.com/github/yabbou/Career_Forecasting/blob/main/final_project.ipynb\" target=\"_parent\"><img src=\"https://colab.research.google.com/assets/colab-badge.svg\" alt=\"Open In Colab\"/></a>"
      ]
    },
    {
      "cell_type": "markdown",
      "metadata": {
        "id": "5jN77m5EPCIh"
      },
      "source": [
        "**Career Forecasting**\n",
        "=="
      ]
    },
    {
      "cell_type": "markdown",
      "metadata": {
        "id": "I7NPiEwZV42o"
      },
      "source": [
        "Introduction\n",
        "=="
      ]
    },
    {
      "cell_type": "markdown",
      "metadata": {
        "id": "OTLVYhMTU1Oh"
      },
      "source": [
        "**Abstract**\n",
        "\n",
        "**250 words or less"
      ]
    },
    {
      "cell_type": "markdown",
      "metadata": {
        "id": "A4E6s-gfPG3T"
      },
      "source": [
        "**General Introduction**\n",
        "\n",
        "**Describe your project, including the scientific or business motivation for the research\n",
        "question you have chosen to answer. This section should summarize the content of your Final Project Proposal,\n",
        "so be sure to explain your research question, describe the source and content of the data set you have chosen to\n",
        "work with, and summarize your approach to meeting the requirements for the Project\n",
        "\n",
        "*Research Question*: ...\n",
        "\n",
        "_Variables_:...\n",
        "\n",
        "The data set includes ...:\n",
        "1. \n"
      ]
    },
    {
      "cell_type": "markdown",
      "metadata": {
        "id": "3MF75bkdVZY_"
      },
      "source": [
        "**Research Approach**\n",
        "\n",
        "**Explain + present the end-to-end methodology you made use of for all\n",
        "aspects of your Final Project work, including your EDA, data preparation, and investigative analysis work.\n",
        "Be sure to include a description of your data management strategy as part of your narrative.\n"
      ]
    },
    {
      "cell_type": "markdown",
      "metadata": {
        "id": "3pq1uo1wPMf7"
      },
      "source": [
        "**Summary:**\n",
        "\n",
        "Step 1: Introduction\n",
        "\n",
        "Step 2: EDA\n",
        "\n",
        "Step 3: Data Cleaning\n",
        "\n",
        "Step 4: Investigative Analysis\n",
        "\n",
        "Step 5: Conclusion"
      ]
    },
    {
      "cell_type": "markdown",
      "metadata": {
        "id": "LVZwed0fPWIM"
      },
      "source": [
        "Part 2: EDA\n",
        "=="
      ]
    },
    {
      "cell_type": "markdown",
      "metadata": {
        "id": "HX4B4yQEPYUP"
      },
      "source": [
        "Here are some of the data tables that will be analysed:"
      ]
    },
    {
      "cell_type": "code",
      "metadata": {
        "colab": {
          "base_uri": "https://localhost:8080/",
          "height": 219
        },
        "id": "ouRtNY0pPan5",
        "outputId": "5f21a178-aa14-4258-9884-43f78273bae8"
      },
      "source": [
        "import pandas as pd \n",
        "import numpy as np\n",
        "import matplotlib.pyplot as plt\n",
        "import missingno as msno\n",
        "import seaborn as sns\n",
        "from sklearn.metrics import confusion_matrix, classification_report \n",
        "from sklearn.metrics import accuracy_score, recall_score, precision_score, f1_score, roc_auc_score, roc_curve\n",
        "from yellowbrick.classifier import ROCAUC\n",
        "\n",
        "import warnings\n",
        "warnings.filterwarnings(\"ignore\")\n",
        "\n",
        "def displayRows(df):\n",
        "  rows = df.shape[0]\n",
        "  print('Rows:',rows)\n",
        "\n",
        "employed_df = pd.read_csv(\"https://raw.githubusercontent.com/yabbou/Career_Forecasting/main/datasets/employed_usa_2006_2015.csv\").iloc[:-2,:]\n",
        "displayRows(employed_df)\n",
        "employed_df.head()"
      ],
      "execution_count": 48,
      "outputs": [
        {
          "output_type": "stream",
          "text": [
            "Rows: 28\n"
          ],
          "name": "stdout"
        },
        {
          "output_type": "execute_result",
          "data": {
            "text/html": [
              "<div>\n",
              "<style scoped>\n",
              "    .dataframe tbody tr th:only-of-type {\n",
              "        vertical-align: middle;\n",
              "    }\n",
              "\n",
              "    .dataframe tbody tr th {\n",
              "        vertical-align: top;\n",
              "    }\n",
              "\n",
              "    .dataframe thead th {\n",
              "        text-align: right;\n",
              "    }\n",
              "</style>\n",
              "<table border=\"1\" class=\"dataframe\">\n",
              "  <thead>\n",
              "    <tr style=\"text-align: right;\">\n",
              "      <th></th>\n",
              "      <th>Occupation</th>\n",
              "      <th>2006</th>\n",
              "      <th>2007</th>\n",
              "      <th>2008</th>\n",
              "      <th>2009</th>\n",
              "      <th>2010</th>\n",
              "      <th>2011</th>\n",
              "      <th>2012</th>\n",
              "      <th>2013</th>\n",
              "      <th>2014</th>\n",
              "      <th>2015</th>\n",
              "    </tr>\n",
              "  </thead>\n",
              "  <tbody>\n",
              "    <tr>\n",
              "      <th>0</th>\n",
              "      <td>All occupations</td>\n",
              "      <td>144,427</td>\n",
              "      <td>146,047</td>\n",
              "      <td>145,362</td>\n",
              "      <td>139,877</td>\n",
              "      <td>139,064</td>\n",
              "      <td>139,869</td>\n",
              "      <td>142,469</td>\n",
              "      <td>143,929</td>\n",
              "      <td>146,305</td>\n",
              "      <td>148,834</td>\n",
              "    </tr>\n",
              "    <tr>\n",
              "      <th>1</th>\n",
              "      <td>Management, professional, and related occupations</td>\n",
              "      <td>50,420</td>\n",
              "      <td>51,787</td>\n",
              "      <td>52,761</td>\n",
              "      <td>52,219</td>\n",
              "      <td>51,743</td>\n",
              "      <td>52,546</td>\n",
              "      <td>54,043</td>\n",
              "      <td>54,711</td>\n",
              "      <td>56,050</td>\n",
              "      <td>57,960</td>\n",
              "    </tr>\n",
              "    <tr>\n",
              "      <th>2</th>\n",
              "      <td>Management, business, and financial operations...</td>\n",
              "      <td>21,233</td>\n",
              "      <td>21,577</td>\n",
              "      <td>22,059</td>\n",
              "      <td>21,529</td>\n",
              "      <td>20,938</td>\n",
              "      <td>21,589</td>\n",
              "      <td>22,678</td>\n",
              "      <td>22,794</td>\n",
              "      <td>23,171</td>\n",
              "      <td>24,108</td>\n",
              "    </tr>\n",
              "    <tr>\n",
              "      <th>3</th>\n",
              "      <td>Professional and related occupations</td>\n",
              "      <td>29,187</td>\n",
              "      <td>30,210</td>\n",
              "      <td>30,702</td>\n",
              "      <td>30,690</td>\n",
              "      <td>30,805</td>\n",
              "      <td>30,957</td>\n",
              "      <td>31,365</td>\n",
              "      <td>31,917</td>\n",
              "      <td>32,879</td>\n",
              "      <td>33,852</td>\n",
              "    </tr>\n",
              "    <tr>\n",
              "      <th>4</th>\n",
              "      <td>Architect</td>\n",
              "      <td>221</td>\n",
              "      <td>240</td>\n",
              "      <td>233</td>\n",
              "      <td>204</td>\n",
              "      <td>184</td>\n",
              "      <td>181</td>\n",
              "      <td>195</td>\n",
              "      <td>193</td>\n",
              "      <td>178</td>\n",
              "      <td>203</td>\n",
              "    </tr>\n",
              "  </tbody>\n",
              "</table>\n",
              "</div>"
            ],
            "text/plain": [
              "                                          Occupation     2006  ...     2014     2015\n",
              "0                                    All occupations  144,427  ...  146,305  148,834\n",
              "1  Management, professional, and related occupations   50,420  ...   56,050   57,960\n",
              "2  Management, business, and financial operations...   21,233  ...   23,171   24,108\n",
              "3               Professional and related occupations   29,187  ...   32,879   33,852\n",
              "4                                          Architect      221  ...      178      203\n",
              "\n",
              "[5 rows x 11 columns]"
            ]
          },
          "metadata": {
            "tags": []
          },
          "execution_count": 48
        }
      ]
    },
    {
      "cell_type": "code",
      "metadata": {
        "colab": {
          "base_uri": "https://localhost:8080/",
          "height": 378
        },
        "id": "hYa23KIf0HSK",
        "outputId": "3aa4a516-6d93-4a58-9d04-f51b66795503"
      },
      "source": [
        "employed_college_students_df = pd.read_csv(\"https://raw.githubusercontent.com/yabbou/Career_Forecasting/main/datasets/employment_college_students_2010_2012.csv\")\n",
        "employed_college_students_df = employed_college_students_df.drop(['Major_code'],axis='columns') #Major_code was relevant when retrieving the data from original source \n",
        "displayRows(employed_college_students_df)\n",
        "employed_college_students_df.head()"
      ],
      "execution_count": 49,
      "outputs": [
        {
          "output_type": "stream",
          "text": [
            "Rows: 173\n"
          ],
          "name": "stdout"
        },
        {
          "output_type": "execute_result",
          "data": {
            "text/html": [
              "<div>\n",
              "<style scoped>\n",
              "    .dataframe tbody tr th:only-of-type {\n",
              "        vertical-align: middle;\n",
              "    }\n",
              "\n",
              "    .dataframe tbody tr th {\n",
              "        vertical-align: top;\n",
              "    }\n",
              "\n",
              "    .dataframe thead th {\n",
              "        text-align: right;\n",
              "    }\n",
              "</style>\n",
              "<table border=\"1\" class=\"dataframe\">\n",
              "  <thead>\n",
              "    <tr style=\"text-align: right;\">\n",
              "      <th></th>\n",
              "      <th>Rank</th>\n",
              "      <th>Major</th>\n",
              "      <th>Major_category</th>\n",
              "      <th>Total</th>\n",
              "      <th>Sample_size</th>\n",
              "      <th>Men</th>\n",
              "      <th>Women</th>\n",
              "      <th>ShareWomen</th>\n",
              "      <th>Employed</th>\n",
              "      <th>Full_time</th>\n",
              "      <th>Part_time</th>\n",
              "      <th>Full_time_year_round</th>\n",
              "      <th>Unemployed</th>\n",
              "      <th>Unemployment_rate</th>\n",
              "      <th>Median</th>\n",
              "      <th>P25th</th>\n",
              "      <th>P75th</th>\n",
              "      <th>College_jobs</th>\n",
              "      <th>Non_college_jobs</th>\n",
              "      <th>Low_wage_jobs</th>\n",
              "    </tr>\n",
              "  </thead>\n",
              "  <tbody>\n",
              "    <tr>\n",
              "      <th>0</th>\n",
              "      <td>1</td>\n",
              "      <td>PETROLEUM ENGINEERING</td>\n",
              "      <td>Engineering</td>\n",
              "      <td>2339</td>\n",
              "      <td>36</td>\n",
              "      <td>2057</td>\n",
              "      <td>282</td>\n",
              "      <td>0.120564</td>\n",
              "      <td>1976</td>\n",
              "      <td>1849</td>\n",
              "      <td>270</td>\n",
              "      <td>1207</td>\n",
              "      <td>37</td>\n",
              "      <td>0.018381</td>\n",
              "      <td>110000</td>\n",
              "      <td>95000</td>\n",
              "      <td>125000</td>\n",
              "      <td>1534</td>\n",
              "      <td>364</td>\n",
              "      <td>193</td>\n",
              "    </tr>\n",
              "    <tr>\n",
              "      <th>1</th>\n",
              "      <td>2</td>\n",
              "      <td>MINING AND MINERAL ENGINEERING</td>\n",
              "      <td>Engineering</td>\n",
              "      <td>756</td>\n",
              "      <td>7</td>\n",
              "      <td>679</td>\n",
              "      <td>77</td>\n",
              "      <td>0.101852</td>\n",
              "      <td>640</td>\n",
              "      <td>556</td>\n",
              "      <td>170</td>\n",
              "      <td>388</td>\n",
              "      <td>85</td>\n",
              "      <td>0.117241</td>\n",
              "      <td>75000</td>\n",
              "      <td>55000</td>\n",
              "      <td>90000</td>\n",
              "      <td>350</td>\n",
              "      <td>257</td>\n",
              "      <td>50</td>\n",
              "    </tr>\n",
              "    <tr>\n",
              "      <th>2</th>\n",
              "      <td>3</td>\n",
              "      <td>METALLURGICAL ENGINEERING</td>\n",
              "      <td>Engineering</td>\n",
              "      <td>856</td>\n",
              "      <td>3</td>\n",
              "      <td>725</td>\n",
              "      <td>131</td>\n",
              "      <td>0.153037</td>\n",
              "      <td>648</td>\n",
              "      <td>558</td>\n",
              "      <td>133</td>\n",
              "      <td>340</td>\n",
              "      <td>16</td>\n",
              "      <td>0.024096</td>\n",
              "      <td>73000</td>\n",
              "      <td>50000</td>\n",
              "      <td>105000</td>\n",
              "      <td>456</td>\n",
              "      <td>176</td>\n",
              "      <td>0</td>\n",
              "    </tr>\n",
              "    <tr>\n",
              "      <th>3</th>\n",
              "      <td>4</td>\n",
              "      <td>NAVAL ARCHITECTURE AND MARINE ENGINEERING</td>\n",
              "      <td>Engineering</td>\n",
              "      <td>1258</td>\n",
              "      <td>16</td>\n",
              "      <td>1123</td>\n",
              "      <td>135</td>\n",
              "      <td>0.107313</td>\n",
              "      <td>758</td>\n",
              "      <td>1069</td>\n",
              "      <td>150</td>\n",
              "      <td>692</td>\n",
              "      <td>40</td>\n",
              "      <td>0.050125</td>\n",
              "      <td>70000</td>\n",
              "      <td>43000</td>\n",
              "      <td>80000</td>\n",
              "      <td>529</td>\n",
              "      <td>102</td>\n",
              "      <td>0</td>\n",
              "    </tr>\n",
              "    <tr>\n",
              "      <th>4</th>\n",
              "      <td>5</td>\n",
              "      <td>CHEMICAL ENGINEERING</td>\n",
              "      <td>Engineering</td>\n",
              "      <td>32260</td>\n",
              "      <td>289</td>\n",
              "      <td>21239</td>\n",
              "      <td>11021</td>\n",
              "      <td>0.341631</td>\n",
              "      <td>25694</td>\n",
              "      <td>23170</td>\n",
              "      <td>5180</td>\n",
              "      <td>16697</td>\n",
              "      <td>1672</td>\n",
              "      <td>0.061098</td>\n",
              "      <td>65000</td>\n",
              "      <td>50000</td>\n",
              "      <td>75000</td>\n",
              "      <td>18314</td>\n",
              "      <td>4440</td>\n",
              "      <td>972</td>\n",
              "    </tr>\n",
              "  </tbody>\n",
              "</table>\n",
              "</div>"
            ],
            "text/plain": [
              "   Rank  ... Low_wage_jobs\n",
              "0     1  ...           193\n",
              "1     2  ...            50\n",
              "2     3  ...             0\n",
              "3     4  ...             0\n",
              "4     5  ...           972\n",
              "\n",
              "[5 rows x 20 columns]"
            ]
          },
          "metadata": {
            "tags": []
          },
          "execution_count": 49
        }
      ]
    },
    {
      "cell_type": "markdown",
      "metadata": {
        "id": "DVW_terErZCJ"
      },
      "source": [
        "Are there any null values for which to account?\n",
        "\n"
      ]
    },
    {
      "cell_type": "code",
      "metadata": {
        "colab": {
          "base_uri": "https://localhost:8080/"
        },
        "id": "EUZv0KEMrYIN",
        "outputId": "5dcc138a-03eb-4063-d5fb-091f740eeb3d"
      },
      "source": [
        "def displayNulls(df):\n",
        "  nulls = df[df.isnull().sum()]\n",
        "  print(nulls,'\\n')\n",
        "\n",
        "def displayNullCount(df):\n",
        "  null_count = df.isnull().sum()\n",
        "  print(null_count[df.isnull().sum() > 0],'\\n')\n",
        "\n",
        "employed_students_df = pd.read_csv(\"https://raw.githubusercontent.com/yabbou/Career_Forecasting/main/datasets/employment_all_students_2010_2012.csv\")\n",
        "employed_students_df = employed_students_df.drop(['Major_code'],axis='columns') \n",
        "\n",
        "employed_graduate_students_df = pd.read_csv(\"https://raw.githubusercontent.com/yabbou/Career_Forecasting/main/datasets/employment_graduate_school_students_2010_2012.csv\")\n",
        "employed_graduate_students_df = employed_graduate_students_df.drop(['Major_code'],axis='columns') \n",
        "\n",
        "\n",
        "displayNullCount(employed_df)\n",
        "displayNullCount(employed_students_df)\n",
        "displayNullCount(employed_college_students_df)\n",
        "displayNullCount(employed_graduate_students_df)\n"
      ],
      "execution_count": 56,
      "outputs": [
        {
          "output_type": "stream",
          "text": [
            "Series([], dtype: int64) \n",
            "\n",
            "Series([], dtype: int64) \n",
            "\n",
            "Unemployment_rate    1\n",
            "dtype: int64 \n",
            "\n",
            "Series([], dtype: int64) \n",
            "\n"
          ],
          "name": "stdout"
        }
      ]
    },
    {
      "cell_type": "markdown",
      "metadata": {
        "id": "vHuy96zg0aHq"
      },
      "source": [
        "Thankfully, most of the data cleaning was performed before uploaded to the public domain. But there indeed remains a single null value in the `employed_college_students_df` table."
      ]
    },
    {
      "cell_type": "code",
      "metadata": {
        "colab": {
          "base_uri": "https://localhost:8080/",
          "height": 134
        },
        "id": "qB8KaEfNxQLU",
        "outputId": "4fd55bd5-fb35-439c-dc71-387cde9ad652"
      },
      "source": [
        "def displayNullRow(df):\n",
        "  return df[df.isnull().any(axis=1)]\n",
        "\n",
        "displayNullRow(employed_college_students_df)"
      ],
      "execution_count": 51,
      "outputs": [
        {
          "output_type": "execute_result",
          "data": {
            "text/html": [
              "<div>\n",
              "<style scoped>\n",
              "    .dataframe tbody tr th:only-of-type {\n",
              "        vertical-align: middle;\n",
              "    }\n",
              "\n",
              "    .dataframe tbody tr th {\n",
              "        vertical-align: top;\n",
              "    }\n",
              "\n",
              "    .dataframe thead th {\n",
              "        text-align: right;\n",
              "    }\n",
              "</style>\n",
              "<table border=\"1\" class=\"dataframe\">\n",
              "  <thead>\n",
              "    <tr style=\"text-align: right;\">\n",
              "      <th></th>\n",
              "      <th>Rank</th>\n",
              "      <th>Major</th>\n",
              "      <th>Major_category</th>\n",
              "      <th>Total</th>\n",
              "      <th>Sample_size</th>\n",
              "      <th>Men</th>\n",
              "      <th>Women</th>\n",
              "      <th>ShareWomen</th>\n",
              "      <th>Employed</th>\n",
              "      <th>Full_time</th>\n",
              "      <th>Part_time</th>\n",
              "      <th>Full_time_year_round</th>\n",
              "      <th>Unemployed</th>\n",
              "      <th>Unemployment_rate</th>\n",
              "      <th>Median</th>\n",
              "      <th>P25th</th>\n",
              "      <th>P75th</th>\n",
              "      <th>College_jobs</th>\n",
              "      <th>Non_college_jobs</th>\n",
              "      <th>Low_wage_jobs</th>\n",
              "    </tr>\n",
              "  </thead>\n",
              "  <tbody>\n",
              "    <tr>\n",
              "      <th>73</th>\n",
              "      <td>74</td>\n",
              "      <td>MILITARY TECHNOLOGIES</td>\n",
              "      <td>Industrial Arts &amp; Consumer Services</td>\n",
              "      <td>124</td>\n",
              "      <td>4</td>\n",
              "      <td>1756</td>\n",
              "      <td>1323</td>\n",
              "      <td>0.429685</td>\n",
              "      <td>0</td>\n",
              "      <td>111</td>\n",
              "      <td>0</td>\n",
              "      <td>111</td>\n",
              "      <td>0</td>\n",
              "      <td>NaN</td>\n",
              "      <td>40000</td>\n",
              "      <td>40000</td>\n",
              "      <td>40000</td>\n",
              "      <td>0</td>\n",
              "      <td>0</td>\n",
              "      <td>0</td>\n",
              "    </tr>\n",
              "  </tbody>\n",
              "</table>\n",
              "</div>"
            ],
            "text/plain": [
              "    Rank                  Major  ... Non_college_jobs  Low_wage_jobs\n",
              "73    74  MILITARY TECHNOLOGIES  ...                0              0\n",
              "\n",
              "[1 rows x 20 columns]"
            ]
          },
          "metadata": {
            "tags": []
          },
          "execution_count": 51
        }
      ]
    },
    {
      "cell_type": "markdown",
      "metadata": {
        "id": "d0LK832S2m7G"
      },
      "source": [
        "The last row holds an unknown `unemployment_rate`. Though, the `Unemplyed` column has a value of 0, so the rate could be deduced to also be 0."
      ]
    },
    {
      "cell_type": "code",
      "metadata": {
        "id": "44tTrqvF3zZG"
      },
      "source": [
        ""
      ],
      "execution_count": null,
      "outputs": []
    }
  ]
}