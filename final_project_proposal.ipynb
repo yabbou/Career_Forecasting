{
  "nbformat": 4,
  "nbformat_minor": 0,
  "metadata": {
    "colab": {
      "name": "final project proposal.ipynb",
      "provenance": [],
      "collapsed_sections": [],
      "authorship_tag": "ABX9TyP/Y8p2bd/emyW83JrgBAUe",
      "include_colab_link": true
    },
    "kernelspec": {
      "name": "python3",
      "display_name": "Python 3"
    },
    "language_info": {
      "name": "python"
    }
  },
  "cells": [
    {
      "cell_type": "markdown",
      "metadata": {
        "id": "view-in-github",
        "colab_type": "text"
      },
      "source": [
        "<a href=\"https://colab.research.google.com/github/yabbou/Career_Forecasting/blob/main/final_project_proposal.ipynb\" target=\"_parent\"><img src=\"https://colab.research.google.com/assets/colab-badge.svg\" alt=\"Open In Colab\"/></a>"
      ]
    },
    {
      "cell_type": "markdown",
      "metadata": {
        "id": "JvrCMcNjed8-"
      },
      "source": [
        "#**Final Project - Proposal**"
      ]
    },
    {
      "cell_type": "markdown",
      "metadata": {
        "id": "S0EjAUcYnrzt"
      },
      "source": [
        "Introduction\n",
        "==\n",
        "Contributing to society is critical to a healthy economy and (most often) a stable state of mind. But what career path should a high school graduate follow? \n",
        "\n",
        "Forecasting a young professional's career path depends on variables such as the individual's natural and developed abilities, his intersets, and the job opportunities available in his city. Some students may enroll in college programs that will likely lead to employment, some want high salaries, others purely pursue their passions.\n",
        "\n",
        "By [2016](https://data.world/nces/high-school-completion-and-bachelors-degree-attainment), 88% of students in the US earned a high school diploma, and 33% a college degree. And everyone needs to be financially supported.\n",
        "\n",
        "**Research Questions**\n",
        "\n",
        "We will attempt to predict the significant factors that influence a high school graduate's professional direction, such as income, major, personal preferences, and situational circumstances. **_Can noticeable trends or student preferences be found among students in the United States towards any specific majors?_**\n",
        "\n",
        "We will use our familiarity with data science to analyze appropriate variables, and looking for each variable's influence on the trend. The project could offer insight to students and young adults in deciding a career paths they might practically find appealing, based on those that past students have chosen.\n",
        "\n",
        "**Data**\n",
        "\n",
        "We will use data from the following sources:\n",
        "\n",
        "* https://data.world/fivethirtyeight/college-majors\n",
        "* https://data.world/wnedds/jobs-by-likelihood-of-automation\n",
        "* [The BLS](https://data.world/vizwiz/employment-unemployment-by-state-and-month) to compare predictions.\n",
        "\n",
        "The data will be dowloaded as CSVs to the local computer, uploaded to Github, and analyzed with Python in Google Colab.\n",
        "\n",
        "**Approach**\n",
        "\n",
        "The data will be stored in Github. A detailed Exploratory Data Analysis (EDA) should include, for example, the searching for varaible relationships, testing for multi-collinearity, displaying of relevant charts, and performing of regressions. Regressions, running nearest-neighbor models, and analysis of the data will aid the finding of common trends for future prediction.\n",
        "\n"
      ]
    }
  ]
}